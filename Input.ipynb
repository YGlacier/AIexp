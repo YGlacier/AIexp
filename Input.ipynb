{
 "cells": [
  {
   "cell_type": "code",
   "execution_count": 3,
   "metadata": {},
   "outputs": [],
   "source": [
    "import pyworld as pw\n",
    "from scipy.io import wavfile\n",
    "import numpy as np\n",
    "import pysptk\n",
    "import matplotlib.pyplot as plt\n",
    "import os\n",
    "from glob import glob\n",
    "from dtw import dtw\n",
    "from numpy.linalg import norm\n",
    "import chainer\n",
    "from chainer import Variable, serializers, Chain, cuda,optimizers\n",
    "import chainer.functions as F\n",
    "import chainer.links as L"
   ]
  },
  {
   "cell_type": "code",
   "execution_count": 4,
   "metadata": {},
   "outputs": [],
   "source": [
    "source=\"rms\"\n",
    "target=\"slt\""
   ]
  },
  {
   "cell_type": "code",
   "execution_count": 6,
   "metadata": {},
   "outputs": [
    {
     "name": "stdout",
     "output_type": "stream",
     "text": [
      "Data Loaded\n",
      "Features Extracted\n",
      "Time Wrapped\n"
     ]
    }
   ],
   "source": [
    "source_path_list=glob(os.path.join(\"\",\"train/\"+source+\"/*.wav\"))\n",
    "target_path_list=glob(os.path.join(\"\",\"train/\"+target+\"/*.wav\"))\n",
    "source_fs=[]#入力のサンプリング周波数\n",
    "source_data=[]#入力のデータ\n",
    "target_fs=[]#出力のサンプリング周波数\n",
    "target_data=[]#出力のデータ\n",
    "source_raw_f0=[]#基本周波数\n",
    "target_raw_f0=[]\n",
    "source_t=[]\n",
    "target_t=[]\n",
    "source_f0=[]#修正された基本周波数\n",
    "target_f0=[]\n",
    "source_sp=[]#スペクトル包絡\n",
    "target_sp=[]\n",
    "source_ap=[]#非周期成分\n",
    "target_ap=[]\n",
    "source_mc=[]#MCEP\n",
    "target_mc=[]\n",
    "source_aligned_mc=[]#同期されたMCEP\n",
    "target_aligned_mc=[]\n",
    "\n",
    "#for i in range(len(source_path_list)):#データの読み込み\n",
    "for i in range(50):\n",
    "    source_fs.append(wavfile.read(source_path_list[i])[0])\n",
    "    source_data.append(wavfile.read(source_path_list[i])[1])\n",
    "    target_fs.append(wavfile.read(target_path_list[i])[0])\n",
    "    target_data.append(wavfile.read(target_path_list[i])[1])\n",
    "    source_data[i]=source_data[i].astype(np.float)\n",
    "    target_data[i]=target_data[i].astype(np.float)\n",
    "\n",
    "print(\"Data Loaded\")\n",
    "    \n",
    "#for i in range(len(source_path_list)):#各特徴量の抽出\n",
    "for i in range(50):\n",
    "    source_raw_f0.append(pw.dio(source_data[i],source_fs[i])[0])\n",
    "    source_t.append(pw.dio(source_data[i],source_fs[i])[1])\n",
    "    source_f0.append(pw.stonemask(source_data[i],source_raw_f0[i],source_t[i],source_fs[i]))\n",
    "    source_sp.append(pw.cheaptrick(source_data[i],source_f0[i],source_t[i],source_fs[i]))\n",
    "    source_ap.append(pw.d4c(source_data[i],source_f0[i],source_t[i],source_fs[i]))\n",
    "    source_mc.append(pysptk.sp2mc(source_sp[i],24,pysptk.util.mcepalpha(source_fs[i])))\n",
    "    target_raw_f0.append(pw.dio(target_data[i],target_fs[i])[0])\n",
    "    target_t.append(pw.dio(target_data[i],target_fs[i])[1])\n",
    "    target_f0.append(pw.stonemask(target_data[i],target_raw_f0[i],target_t[i],target_fs[i]))\n",
    "    target_sp.append(pw.cheaptrick(target_data[i],target_f0[i],target_t[i],target_fs[i]))\n",
    "    target_ap.append(pw.d4c(target_data[i],target_f0[i],target_t[i],target_fs[i]))\n",
    "    target_mc.append(pysptk.sp2mc(target_sp[i],24,pysptk.util.mcepalpha(target_fs[i])))\n",
    "    \n",
    "print(\"Features Extracted\")\n",
    "    \n",
    "#for i in range(len(source_path_list)):#dtwを用いて同期化\n",
    "for i in range(50):\n",
    "    dist,cost,acc_cost,path=dtw(source_mc[i],target_mc[i],dist=lambda x, y: norm(x - y, ord=1))\n",
    "    source_aligned_mc.append(source_mc[i][path[0]])\n",
    "    target_aligned_mc.append(target_mc[i][path[1]])\n",
    "    \n",
    "print(\"Time Wrapped\")\n"
   ]
  },
  {
   "cell_type": "code",
   "execution_count": 7,
   "metadata": {},
   "outputs": [],
   "source": [
    "source_list=[]\n",
    "target_list=[]\n",
    "#for i in range(len(source_path_list)):\n",
    "for i in range(50):\n",
    "    source_list.append(np.array(source_aligned_mc[i],dtype=np.float32))\n",
    "    target_list.append(np.array(target_aligned_mc[i],dtype=np.float32))\n",
    "                      "
   ]
  },
  {
   "cell_type": "code",
   "execution_count": 8,
   "metadata": {},
   "outputs": [],
   "source": [
    "gpu_id = None\n",
    "\n",
    "if gpu_id is not None:\n",
    "    xp = cuda.cupy\n",
    "else:\n",
    "    xp = np\n",
    "\n",
    "class VCBLSTM(chainer.Chain):\n",
    "    \n",
    "    def __init__(self,io_size=25,layer1_size=128,layer2_size=256):\n",
    "        super(VCBLSTM,self).__init__(\n",
    "            Linear_input=L.Linear(io_size,layer1_size),\n",
    "            #BLSTM1=L.NStepBiLSTM(1,layer1_size,layer2_size,0.5),\n",
    "            #BLSTM2=L.NStepBiLSTM(1,layer2_size,layer1_size,0.5),\n",
    "            BLSTM=L.NStepBiLSTM(2,128,128,0.5),\n",
    "            #Linear_output=L.Linear(layer1_size,io_size),\n",
    "            Linear_output=L.Linear(256,25)\n",
    "        )\n",
    "\n",
    "        #self.reset_state()\n",
    "\n",
    "        #if gpu_id is not None:\n",
    "        #    cuda.get_device(gpu_id).use()\n",
    "        #    self.to_gpu(gpu_id)\n",
    "            \n",
    "    def __call__(self,source):\n",
    "        hx=None\n",
    "        cx=None\n",
    "        Lin=self.Linear_input(Variable(xp.array(source,dtype=xp.float32)))\n",
    "        #hx1,cx1,ys1 = self.BLSTM1(hx,cx,Lin)\n",
    "        #hx2,cx2,ys2 = self.BLSTM2(hs,cx,ys1)\n",
    "        xs=[]\n",
    "        xs.append(Lin)\n",
    "        hx2,cx2,ys2=self.BLSTM(hx,cx,xs)\n",
    "        #Lout=self.Linear_output(ys2)\n",
    "        Lout=self.Linear_output(ys2[0])\n",
    "        return Lout\n",
    "        \n",
    "#    def reset_state(self):\n",
    "#        hx1=None\n",
    "#        hx2=None\n",
    "#        cx1=None\n",
    "#        cx2=None\n",
    "\n",
    "    def loss(self,source,target):\n",
    "        y=self(source)\n",
    "        return F.mean_squared_error(y,target)\n",
    "    \n",
    "    def load_model(self,file_name):\n",
    "        serializers.load_npz(file_name, self)\n",
    "    \n",
    "    def save_model(self,file_name):\n",
    "        serializers.save_npz(file_name,self)"
   ]
  },
  {
   "cell_type": "code",
   "execution_count": 10,
   "metadata": {},
   "outputs": [
    {
     "name": "stdout",
     "output_type": "stream",
     "text": [
      "1 / 10 epoch start.\n",
      "2 / 10 epoch start.\n",
      "3 / 10 epoch start.\n",
      "4 / 10 epoch start.\n",
      "5 / 10 epoch start.\n",
      "6 / 10 epoch start.\n",
      "7 / 10 epoch start.\n",
      "8 / 10 epoch start.\n",
      "9 / 10 epoch start.\n",
      "10 / 10 epoch start.\n"
     ]
    }
   ],
   "source": [
    "model=VCBLSTM()\n",
    "optimizer=optimizers.Adam()\n",
    "optimizer.setup(model)\n",
    "\n",
    "epoch_num=10\n",
    "for epoch in range(epoch_num):\n",
    "    print(\"{0} / {1} epoch start.\".format(epoch + 1, epoch_num))\n",
    "    for i in range(50):\n",
    "        loss=0.0\n",
    "        #model.reset_state()\n",
    "        model.cleargrads()\n",
    "        loss=model.loss(source_list[i],target_list[i])\n",
    "        loss.backward()\n",
    "        #loss.unchain_backward()\n",
    "        optimizer.update()\n",
    "model_file=\"trained_model/VCBLSTM.model\"\n",
    "model.save_model(model_file)\n",
    "    "
   ]
  },
  {
   "cell_type": "code",
   "execution_count": 215,
   "metadata": {},
   "outputs": [],
   "source": [
    "source_test_path_list=glob(os.path.join(\"\",\"test/\"+source+\"/*.wav\"))\n",
    "target_test_path_list=glob(os.path.join(\"\",\"test/\"+target+\"/*.wav\"))"
   ]
  },
  {
   "cell_type": "code",
   "execution_count": 219,
   "metadata": {},
   "outputs": [],
   "source": [
    "source_test_fs=[]#入力のサンプリング周波数\n",
    "source_test_data=[]#入力のデータ\n",
    "target_test_fs=[]#出力のサンプリング周波数\n",
    "target_test_data=[]#出力のデータ\n",
    "source_test_raw_f0=[]#基本周波数\n",
    "target_test_raw_f0=[]\n",
    "source_test_t=[]\n",
    "target_test_t=[]\n",
    "source_test_f0=[]#修正された基本周波数\n",
    "target_test_f0=[]\n",
    "source_test_sp=[]#スペクトル包絡\n",
    "target_test_sp=[]\n",
    "source_test_ap=[]#非周期成分\n",
    "target_test_ap=[]\n",
    "source_test_mc=[]#MCEP\n",
    "target_test_mc=[]\n",
    "source_test_aligned_mc=[]#同期されたMCEP\n",
    "target_test_aligned_mc=[]\n",
    "\n",
    "for i in range(5):\n",
    "    source_test_fs.append(wavfile.read(source_test_path_list[i])[0])\n",
    "    source_test_data.append(wavfile.read(source_test_path_list[i])[1])\n",
    "    target_test_fs.append(wavfile.read(target_test_path_list[i])[0])\n",
    "    target_test_data.append(wavfile.read(target_test_path_list[i])[1])\n",
    "    source_test_data[i]=source_test_data[i].astype(np.float)\n",
    "    target_test_data[i]=target_test_data[i].astype(np.float)\n",
    "    \n",
    "#for i in range(len(source_path_list)):#各特徴量の抽出\n",
    "for i in range(5):\n",
    "    source_test_raw_f0.append(pw.dio(source_test_data[i],source_test_fs[i])[0])\n",
    "    source_test_t.append(pw.dio(source_test_data[i],source_test_fs[i])[1])\n",
    "    source_test_f0.append(pw.stonemask(source_test_data[i],source_test_raw_f0[i],source_test_t[i],source_test_fs[i]))\n",
    "    source_test_sp.append(pw.cheaptrick(source_test_data[i],source_test_f0[i],source_test_t[i],source_test_fs[i]))\n",
    "    source_test_ap.append(pw.d4c(source_test_data[i],source_test_f0[i],source_test_t[i],source_test_fs[i]))\n",
    "    source_test_mc.append(pysptk.sp2mc(source_test_sp[i],24,pysptk.util.mcepalpha(source_test_fs[i])))\n",
    "    target_test_raw_f0.append(pw.dio(target_test_data[i],target_test_fs[i])[0])\n",
    "    target_test_t.append(pw.dio(target_test_data[i],target_test_fs[i])[1])\n",
    "    target_test_f0.append(pw.stonemask(target_test_data[i],target_test_raw_f0[i],target_test_t[i],target_test_fs[i]))\n",
    "    target_test_sp.append(pw.cheaptrick(target_test_data[i],target_test_f0[i],target_test_t[i],target_test_fs[i]))\n",
    "    target_test_ap.append(pw.d4c(target_test_data[i],target_test_f0[i],target_test_t[i],target_test_fs[i]))\n",
    "    target_test_mc.append(pysptk.sp2mc(target_test_sp[i],24,pysptk.util.mcepalpha(target_test_fs[i])))\n",
    "    "
   ]
  },
  {
   "cell_type": "code",
   "execution_count": 221,
   "metadata": {},
   "outputs": [
    {
     "data": {
      "text/plain": [
       "(670, 25)"
      ]
     },
     "execution_count": 221,
     "metadata": {},
     "output_type": "execute_result"
    }
   ],
   "source": [
    "source_test_mc[0].shape"
   ]
  },
  {
   "cell_type": "code",
   "execution_count": 225,
   "metadata": {},
   "outputs": [],
   "source": [
    "src=source_test_mc[0]"
   ]
  },
  {
   "cell_type": "code",
   "execution_count": 223,
   "metadata": {},
   "outputs": [],
   "source": [
    "tgt=model(src)"
   ]
  },
  {
   "cell_type": "code",
   "execution_count": 224,
   "metadata": {},
   "outputs": [
    {
     "data": {
      "text/plain": [
       "variable([[ 0.01385546,  0.01696279, -0.01314463, ..., -0.04406894,\n",
       "           -0.00150739,  0.0237758 ],\n",
       "          [-0.00096869, -0.00297089, -0.0408623 , ..., -0.02576182,\n",
       "           -0.04115073,  0.02746584],\n",
       "          [ 0.02649166,  0.01591729, -0.01742974, ..., -0.01571116,\n",
       "           -0.04514096,  0.00591396],\n",
       "          ...,\n",
       "          [-0.00466983, -0.01846859, -0.06832156, ..., -0.01964105,\n",
       "            0.04595092, -0.02296492],\n",
       "          [-0.00834209,  0.00359597, -0.02888827, ..., -0.05302402,\n",
       "            0.04859642,  0.01711123],\n",
       "          [-0.0273608 ,  0.02821977, -0.01500686, ..., -0.03382013,\n",
       "            0.05959612, -0.00987086]])"
      ]
     },
     "execution_count": 224,
     "metadata": {},
     "output_type": "execute_result"
    }
   ],
   "source": [
    "tgt"
   ]
  },
  {
   "cell_type": "code",
   "execution_count": 233,
   "metadata": {},
   "outputs": [
    {
     "data": {
      "text/plain": [
       "[<matplotlib.lines.Line2D at 0x24824383dd8>]"
      ]
     },
     "execution_count": 233,
     "metadata": {},
     "output_type": "execute_result"
    },
    {
     "data": {
      "image/png": "[encoded data removed]",
      "text/plain": [
       "<matplotlib.figure.Figure at 0x2482d59cc88>"
      ]
     },
     "metadata": {},
     "output_type": "display_data"
    }
   ],
   "source": [
    "plt.plot(tgt.data[:,0])\n",
    "plt.plot(target_test_mc[0][:,0])"
   ]
  },
  {
   "cell_type": "code",
   "execution_count": 234,
   "metadata": {},
   "outputs": [
    {
     "data": {
      "text/plain": [
       "array([[ 1.56269256e+00,  1.22021853e+00,  8.99369141e-01, ...,\n",
       "        -1.74418755e-02,  1.07872269e-02,  9.14327165e-04],\n",
       "       [ 1.53553293e+00,  1.02236170e+00,  8.28062926e-01, ...,\n",
       "        -4.80489510e-02, -3.93595650e-03,  3.09818882e-02],\n",
       "       [ 1.71363600e+00,  1.31789300e+00,  8.14527786e-01, ...,\n",
       "        -1.13456437e-01,  1.53809468e-01, -1.54100083e-01],\n",
       "       ...,\n",
       "       [ 1.81496172e+00,  1.31737636e+00,  6.55481824e-01, ...,\n",
       "         5.77305686e-02, -6.61690891e-02,  4.78307588e-02],\n",
       "       [ 2.82693432e+00,  1.66078580e+00,  3.40090402e-01, ...,\n",
       "         3.70651360e-02, -3.24073190e-02,  1.84343161e-02],\n",
       "       [-1.83140711e+01,  6.62044755e-03,  7.08175134e-02, ...,\n",
       "         1.83842062e-02,  2.67870789e-02, -1.37654482e-02]])"
      ]
     },
     "execution_count": 234,
     "metadata": {},
     "output_type": "execute_result"
    }
   ],
   "source": [
    "target_test_mc[0]"
   ]
  },
  {
   "cell_type": "code",
   "execution_count": 235,
   "metadata": {},
   "outputs": [
    {
     "data": {
      "text/plain": [
       "array([[ 0.1037325 , -0.08512665,  0.32886123, ...,  0.06530973,\n",
       "        -0.07866588,  0.07901586],\n",
       "       [ 1.00350152,  0.2994582 ,  0.15715624, ...,  0.02270624,\n",
       "         0.00147088, -0.03327196],\n",
       "       [ 0.57713508, -0.23090742, -0.17594192, ..., -0.01782298,\n",
       "         0.0175421 ,  0.00240559],\n",
       "       ...,\n",
       "       [ 0.60095543,  0.12400639,  0.12669858, ..., -0.00997504,\n",
       "         0.04447293, -0.04205139],\n",
       "       [ 0.64179181,  0.05040951,  0.19982244, ..., -0.01092711,\n",
       "        -0.01557124,  0.04155448],\n",
       "       [ 0.29323326,  0.27887262,  0.50504409, ..., -0.05879085,\n",
       "         0.05999155, -0.0536637 ]])"
      ]
     },
     "execution_count": 235,
     "metadata": {},
     "output_type": "execute_result"
    }
   ],
   "source": [
    "src"
   ]
  },
  {
   "cell_type": "code",
   "execution_count": 237,
   "metadata": {},
   "outputs": [
    {
     "data": {
      "text/plain": [
       "[<matplotlib.lines.Line2D at 0x247e87cc0f0>]"
      ]
     },
     "execution_count": 237,
     "metadata": {},
     "output_type": "execute_result"
    },
    {
     "data": {
      "image/png": "[encoded data removed]",
      "text/plain": [
       "<matplotlib.figure.Figure at 0x247dc3b20b8>"
      ]
     },
     "metadata": {},
     "output_type": "display_data"
    }
   ],
   "source": [
    "plt.plot(src[:,0])\n",
    "plt.plot(target_test_mc[0][:,0])"
   ]
  },
  {
   "cell_type": "code",
   "execution_count": null,
   "metadata": {},
   "outputs": [],
   "source": []
  }
 ],
 "metadata": {
  "kernelspec": {
   "display_name": "Python [default]",
   "language": "python",
   "name": "python3"
  },
  "language_info": {
   "codemirror_mode": {
    "name": "ipython",
    "version": 3
   },
   "file_extension": ".py",
   "mimetype": "text/x-python",
   "name": "python",
   "nbconvert_exporter": "python",
   "pygments_lexer": "ipython3",
   "version": "3.5.5"
  }
 },
 "nbformat": 4,
 "nbformat_minor": 2
}
