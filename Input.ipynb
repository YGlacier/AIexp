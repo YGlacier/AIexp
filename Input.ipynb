{
 "cells": [
  {
   "cell_type": "code",
   "execution_count": 1,
   "metadata": {},
   "outputs": [
    {
     "name": "stderr",
     "output_type": "stream",
     "text": [
      "/anaconda/envs/py35/lib/python3.5/site-packages/h5py/__init__.py:36: FutureWarning: Conversion of the second argument of issubdtype from `float` to `np.floating` is deprecated. In future, it will be treated as `np.float64 == np.dtype(float).type`.\n",
      "  from ._conv import register_converters as _register_converters\n"
     ]
    }
   ],
   "source": [
    "import pyworld as pw\n",
    "from scipy.io import wavfile\n",
    "import numpy as np\n",
    "import pysptk\n",
    "import matplotlib.pyplot as plt\n",
    "import os\n",
    "from glob import glob\n",
    "from dtw import dtw\n",
    "from numpy.linalg import norm\n",
    "import chainer\n",
    "from chainer import Variable, serializers, Chain, cuda,optimizers\n",
    "import chainer.functions as F\n",
    "import chainer.links as L"
   ]
  },
  {
   "cell_type": "code",
   "execution_count": 2,
   "metadata": {},
   "outputs": [],
   "source": [
    "source=\"rms\"\n",
    "target=\"slt\""
   ]
  },
  {
   "cell_type": "code",
   "execution_count": 140,
   "metadata": {
    "scrolled": true
   },
   "outputs": [
    {
     "name": "stdout",
     "output_type": "stream",
     "text": [
      "Data Loaded\n",
      "Features Extracted\n",
      "Time Wrapped\n"
     ]
    }
   ],
   "source": [
    "source_path_list=glob(os.path.join(\"\",\"train/\"+source+\"/*.wav\"))\n",
    "target_path_list=glob(os.path.join(\"\",\"train/\"+target+\"/*.wav\"))\n",
    "source_fs=[]#入力のサンプリング周波数\n",
    "source_data=[]#入力のデータ\n",
    "target_fs=[]#出力のサンプリング周波数\n",
    "target_data=[]#出力のデータ\n",
    "source_raw_f0=[]#基本周波数\n",
    "target_raw_f0=[]\n",
    "source_t=[]\n",
    "target_t=[]\n",
    "source_f0=[]#修正された基本周波数\n",
    "target_f0=[]\n",
    "source_sp=[]#スペクトル包絡\n",
    "target_sp=[]\n",
    "source_ap=[]#非周期成分\n",
    "target_ap=[]\n",
    "source_mc=[]#MCEP\n",
    "target_mc=[]\n",
    "source_aligned_mc=[]#同期されたMCEP\n",
    "target_aligned_mc=[]\n",
    "source_aligned_f0=[]\n",
    "target_aligned_f0=[]\n",
    "\n",
    "#for i in range(len(source_path_list)):#データの読み込み\n",
    "for i in range(500):\n",
    "    source_fs.append(wavfile.read(source_path_list[i])[0])\n",
    "    source_data.append(wavfile.read(source_path_list[i])[1])\n",
    "    target_fs.append(wavfile.read(target_path_list[i])[0])\n",
    "    target_data.append(wavfile.read(target_path_list[i])[1])\n",
    "    source_data[i]=source_data[i].astype(np.float)\n",
    "    target_data[i]=target_data[i].astype(np.float)\n",
    "\n",
    "print(\"Data Loaded\")\n",
    "    \n",
    "#for i in range(len(source_path_list)):#各特徴量の抽出\n",
    "for i in range(500):\n",
    "    source_raw_f0.append(pw.dio(source_data[i],source_fs[i])[0])\n",
    "    source_t.append(pw.dio(source_data[i],source_fs[i])[1])\n",
    "    source_f0.append(pw.stonemask(source_data[i],source_raw_f0[i],source_t[i],source_fs[i]))\n",
    "    source_sp.append(pw.cheaptrick(source_data[i],source_f0[i],source_t[i],source_fs[i]))\n",
    "    source_ap.append(pw.d4c(source_data[i],source_f0[i],source_t[i],source_fs[i]))\n",
    "    source_mc.append(pysptk.sp2mc(source_sp[i],24,pysptk.util.mcepalpha(source_fs[i])))\n",
    "    target_raw_f0.append(pw.dio(target_data[i],target_fs[i])[0])\n",
    "    target_t.append(pw.dio(target_data[i],target_fs[i])[1])\n",
    "    target_f0.append(pw.stonemask(target_data[i],target_raw_f0[i],target_t[i],target_fs[i]))\n",
    "    target_sp.append(pw.cheaptrick(target_data[i],target_f0[i],target_t[i],target_fs[i]))\n",
    "    target_ap.append(pw.d4c(target_data[i],target_f0[i],target_t[i],target_fs[i]))\n",
    "    target_mc.append(pysptk.sp2mc(target_sp[i],24,pysptk.util.mcepalpha(target_fs[i])))\n",
    "    \n",
    "print(\"Features Extracted\")\n",
    "    \n",
    "#for i in range(len(source_path_list)):#dtwを用いて同期化\n",
    "for i in range(500):\n",
    "    dist,cost,acc_cost,path=dtw(source_mc[i],target_mc[i],dist=lambda x, y: norm(x - y, ord=1))\n",
    "    source_aligned_mc.append(source_mc[i][path[0]])\n",
    "    target_aligned_mc.append(target_mc[i][path[1]])\n",
    "    dist,cost,acc_cost,path=dtw(source_f0[i],target_f0[i],dist=lambda x, y: np.abs(x - y))\n",
    "    source_aligned_f0.append(source_f0[i][path[0]])\n",
    "    target_aligned_f0.append(target_f0[i][path[1]])\n",
    "    \n",
    "print(\"Time Wrapped\")\n"
   ]
  },
  {
   "cell_type": "code",
   "execution_count": 93,
   "metadata": {},
   "outputs": [
    {
     "name": "stdout",
     "output_type": "stream",
     "text": [
      "Time Wrapped\n"
     ]
    }
   ],
   "source": [
    "source_aligend_mc=[]\n",
    "target_aligned_mc=[]\n",
    "target_aligned_f0=[]\n",
    "source_aligned_f0=[]\n",
    "for i in range(500):\n",
    "    dist,cost,acc_cost,path=dtw(source_mc[i],target_mc[i],dist=lambda x, y: norm(x - y, ord=1))\n",
    "    source_aligned_mc.append(source_mc[i][path[0]])\n",
    "    target_aligned_mc.append(target_mc[i][path[1]])\n",
    "    dist,cost,acc_cost,path=dtw(source_f0[i],target_f0[i],dist=lambda x, y: np.abs(x - y))\n",
    "    source_aligned_f0.append(source_f0[i][path[0]])\n",
    "    target_aligned_f0.append(target_f0[i][path[1]])\n",
    "    \n",
    "print(\"Time Wrapped\")"
   ]
  },
  {
   "cell_type": "code",
   "execution_count": 141,
   "metadata": {},
   "outputs": [],
   "source": [
    "source_log_f0=np.array([])\n",
    "target_log_f0=np.array([])\n",
    "\n",
    "for i in range(500):\n",
    "    for j in range(source_aligned_f0[i].shape[0]):\n",
    "        if np.abs(source_aligned_f0[i][j])<0.001 or np.abs(target_aligned_f0[i][j])<0.001:\n",
    "           continue\n",
    "        else:\n",
    "           source_log_f0=np.append(source_log_f0,np.array([np.log(source_aligned_f0[i][j])]))\n",
    "           target_log_f0=np.append(target_log_f0,np.array([np.log(target_aligned_f0[i][j])]))"
   ]
  },
  {
   "cell_type": "code",
   "execution_count": 142,
   "metadata": {},
   "outputs": [],
   "source": [
    "f0_param=np.polyfit(source_log_f0,target_log_f0,1)"
   ]
  },
  {
   "cell_type": "code",
   "execution_count": null,
   "metadata": {},
   "outputs": [],
   "source": [
    "target_f0_mean=[]\n",
    "for i in range(500):\n",
    "    for j in range(source_aligned_f0[i].shape[0]):\n",
    "        if np.abs(target_aligned_f0[i][j])<0.001:\n",
    "           continue\n",
    "        else:\n",
    "           target_f0_mean.append(target_log_f0,np.array([np.log(target_aligned_f0[i][j])]))\n"
   ]
  },
  {
   "cell_type": "code",
   "execution_count": 147,
   "metadata": {},
   "outputs": [],
   "source": [
    "gpu_id = 0\n",
    "\n",
    "if gpu_id is not None:\n",
    "    xp = cuda.cupy\n",
    "else:\n",
    "    xp = np\n",
    "\n",
    "class VCBLSTM(chainer.Chain):\n",
    "    \n",
    "    def __init__(self,io_size=25,layer1_size=128,layer2_size=256):\n",
    "        super(VCBLSTM,self).__init__(\n",
    "            Linear_input=L.Linear(io_size,layer1_size),\n",
    "            #BLSTM1=L.NStepBiLSTM(1,layer1_size,layer2_size,0.5),\n",
    "            #BLSTM2=L.NStepBiLSTM(1,layer2_size,layer1_size,0.5),\n",
    "            BLSTM=L.NStepBiLSTM(2,128,128,0.5),\n",
    "            #Linear_output=L.Linear(layer1_size,io_size),\n",
    "            Linear_output=L.Linear(256,25)\n",
    "        )\n",
    "\n",
    "        #self.reset_state()\n",
    "\n",
    "        #if gpu_id is not None:\n",
    "        #    cuda.get_device(gpu_id).use()\n",
    "        #    self.to_gpu(gpu_id)\n",
    "            \n",
    "    def __call__(self,source):\n",
    "        hx=None\n",
    "        cx=None\n",
    "        Lin=self.Linear_input(Variable(xp.array(source,dtype=xp.float32)))\n",
    "        #hx1,cx1,ys1 = self.BLSTM1(hx,cx,Lin)\n",
    "        #hx2,cx2,ys2 = self.BLSTM2(hs,cx,ys1)\n",
    "        xs=[]\n",
    "        xs.append(Lin)\n",
    "        hx2,cx2,ys2=self.BLSTM(hx,cx,xs)\n",
    "        #Lout=self.Linear_output(ys2)\n",
    "        Lout=self.Linear_output(ys2[0])\n",
    "        return Lout\n",
    "        \n",
    "#    def reset_state(self):\n",
    "#        hx1=None\n",
    "#        hx2=None\n",
    "#        cx1=None\n",
    "#        cx2=None\n",
    "\n",
    "    def loss(self,source,target):\n",
    "        y=self(source)\n",
    "        return F.mean_squared_error(y,target)\n",
    "    \n",
    "    def load_model(self,file_name):\n",
    "        serializers.load_npz(file_name, self)\n",
    "    \n",
    "    def save_model(self,file_name):\n",
    "        serializers.save_npz(file_name,self)"
   ]
  },
  {
   "cell_type": "code",
   "execution_count": 144,
   "metadata": {},
   "outputs": [],
   "source": [
    "source_list=[]\n",
    "target_list=[]\n",
    "#for i in range(len(source_path_list)):\n",
    "for i in range(500):\n",
    "    source_list.append(xp.array(source_aligned_mc[i],dtype=xp.float32))\n",
    "    target_list.append(xp.array(target_aligned_mc[i],dtype=xp.float32))"
   ]
  },
  {
   "cell_type": "code",
   "execution_count": 148,
   "metadata": {},
   "outputs": [
    {
     "name": "stdout",
     "output_type": "stream",
     "text": [
      "1 / 100 epoch start.\n",
      "epoch 1:loss = 50.48318.\n",
      "2 / 100 epoch start.\n",
      "epoch 2:loss = 32.99653.\n",
      "3 / 100 epoch start.\n",
      "epoch 3:loss = 30.684065.\n",
      "4 / 100 epoch start.\n",
      "epoch 4:loss = 29.74662.\n",
      "5 / 100 epoch start.\n",
      "epoch 5:loss = 28.965572.\n",
      "6 / 100 epoch start.\n",
      "epoch 6:loss = 28.246134.\n",
      "7 / 100 epoch start.\n",
      "epoch 7:loss = 27.669401.\n",
      "8 / 100 epoch start.\n",
      "epoch 8:loss = 27.224752.\n",
      "9 / 100 epoch start.\n",
      "epoch 9:loss = 26.668491.\n",
      "10 / 100 epoch start.\n",
      "epoch 10:loss = 26.324547.\n",
      "11 / 100 epoch start.\n",
      "epoch 11:loss = 25.718348.\n",
      "12 / 100 epoch start.\n",
      "epoch 12:loss = 25.281094.\n",
      "13 / 100 epoch start.\n",
      "epoch 13:loss = 24.868439.\n",
      "14 / 100 epoch start.\n",
      "epoch 14:loss = 24.433617.\n",
      "15 / 100 epoch start.\n",
      "epoch 15:loss = 24.000763.\n",
      "16 / 100 epoch start.\n",
      "epoch 16:loss = 23.552841.\n",
      "17 / 100 epoch start.\n",
      "epoch 17:loss = 23.23775.\n",
      "18 / 100 epoch start.\n",
      "epoch 18:loss = 22.873652.\n",
      "19 / 100 epoch start.\n",
      "epoch 19:loss = 22.664846.\n",
      "20 / 100 epoch start.\n",
      "epoch 20:loss = 22.22756.\n",
      "21 / 100 epoch start.\n",
      "epoch 21:loss = 21.82232.\n",
      "22 / 100 epoch start.\n",
      "epoch 22:loss = 21.486057.\n",
      "23 / 100 epoch start.\n",
      "epoch 23:loss = 21.113365.\n",
      "24 / 100 epoch start.\n",
      "epoch 24:loss = 20.87633.\n",
      "25 / 100 epoch start.\n",
      "epoch 25:loss = 20.443293.\n",
      "26 / 100 epoch start.\n",
      "epoch 26:loss = 20.195671.\n",
      "27 / 100 epoch start.\n",
      "epoch 27:loss = 19.973167.\n",
      "28 / 100 epoch start.\n",
      "epoch 28:loss = 19.795586.\n",
      "29 / 100 epoch start.\n",
      "epoch 29:loss = 19.578085.\n",
      "30 / 100 epoch start.\n",
      "epoch 30:loss = 19.159178.\n",
      "31 / 100 epoch start.\n",
      "epoch 31:loss = 19.066486.\n",
      "32 / 100 epoch start.\n",
      "epoch 32:loss = 18.755785.\n",
      "33 / 100 epoch start.\n",
      "epoch 33:loss = 18.549994.\n",
      "34 / 100 epoch start.\n",
      "epoch 34:loss = 18.29799.\n",
      "35 / 100 epoch start.\n",
      "epoch 35:loss = 18.318933.\n",
      "36 / 100 epoch start.\n",
      "epoch 36:loss = 17.924381.\n",
      "37 / 100 epoch start.\n",
      "epoch 37:loss = 17.576262.\n",
      "38 / 100 epoch start.\n",
      "epoch 38:loss = 17.553226.\n",
      "39 / 100 epoch start.\n",
      "epoch 39:loss = 17.50544.\n",
      "40 / 100 epoch start.\n",
      "epoch 40:loss = 17.229067.\n",
      "41 / 100 epoch start.\n",
      "epoch 41:loss = 17.183008.\n",
      "42 / 100 epoch start.\n",
      "epoch 42:loss = 17.029919.\n",
      "43 / 100 epoch start.\n",
      "epoch 43:loss = 17.42006.\n",
      "44 / 100 epoch start.\n",
      "epoch 44:loss = 16.904615.\n",
      "45 / 100 epoch start.\n",
      "epoch 45:loss = 16.62443.\n",
      "46 / 100 epoch start.\n",
      "epoch 46:loss = 16.552582.\n",
      "47 / 100 epoch start.\n",
      "epoch 47:loss = 16.233671.\n",
      "48 / 100 epoch start.\n",
      "epoch 48:loss = 16.355923.\n",
      "49 / 100 epoch start.\n",
      "epoch 49:loss = 16.086187.\n",
      "50 / 100 epoch start.\n",
      "epoch 50:loss = 15.933648.\n",
      "51 / 100 epoch start.\n",
      "epoch 51:loss = 15.830625.\n",
      "52 / 100 epoch start.\n",
      "epoch 52:loss = 15.999318.\n",
      "53 / 100 epoch start.\n",
      "epoch 53:loss = 15.947272.\n",
      "54 / 100 epoch start.\n",
      "epoch 54:loss = 15.692278.\n",
      "55 / 100 epoch start.\n",
      "epoch 55:loss = 16.015938.\n",
      "56 / 100 epoch start.\n",
      "epoch 56:loss = 15.550216.\n",
      "57 / 100 epoch start.\n",
      "epoch 57:loss = 15.2154455.\n",
      "58 / 100 epoch start.\n",
      "epoch 58:loss = 15.042119.\n",
      "59 / 100 epoch start.\n",
      "epoch 59:loss = 15.0367155.\n",
      "60 / 100 epoch start.\n",
      "epoch 60:loss = 14.990334.\n",
      "61 / 100 epoch start.\n",
      "epoch 61:loss = 14.891694.\n",
      "62 / 100 epoch start.\n",
      "epoch 62:loss = 14.852514.\n",
      "63 / 100 epoch start.\n",
      "epoch 63:loss = 14.747094.\n",
      "64 / 100 epoch start.\n",
      "epoch 64:loss = 14.807891.\n",
      "65 / 100 epoch start.\n",
      "epoch 65:loss = 14.701072.\n",
      "66 / 100 epoch start.\n",
      "epoch 66:loss = 14.63669.\n",
      "67 / 100 epoch start.\n",
      "epoch 67:loss = 14.512429.\n",
      "68 / 100 epoch start.\n",
      "epoch 68:loss = 14.429888.\n",
      "69 / 100 epoch start.\n",
      "epoch 69:loss = 14.385359.\n",
      "70 / 100 epoch start.\n",
      "epoch 70:loss = 14.35961.\n",
      "71 / 100 epoch start.\n",
      "epoch 71:loss = 14.342654.\n",
      "72 / 100 epoch start.\n",
      "epoch 72:loss = 14.408335.\n",
      "73 / 100 epoch start.\n",
      "epoch 73:loss = 14.285483.\n",
      "74 / 100 epoch start.\n",
      "epoch 74:loss = 14.104796.\n",
      "75 / 100 epoch start.\n",
      "epoch 75:loss = 14.140197.\n",
      "76 / 100 epoch start.\n",
      "epoch 76:loss = 14.024073.\n",
      "77 / 100 epoch start.\n",
      "epoch 77:loss = 14.064904.\n",
      "78 / 100 epoch start.\n",
      "epoch 78:loss = 13.981776.\n",
      "79 / 100 epoch start.\n",
      "epoch 79:loss = 13.939049.\n",
      "80 / 100 epoch start.\n",
      "epoch 80:loss = 14.368052.\n",
      "81 / 100 epoch start.\n",
      "epoch 81:loss = 13.938466.\n",
      "82 / 100 epoch start.\n",
      "epoch 82:loss = 13.823238.\n",
      "83 / 100 epoch start.\n",
      "epoch 83:loss = 13.824926.\n",
      "84 / 100 epoch start.\n",
      "epoch 84:loss = 13.817888.\n",
      "85 / 100 epoch start.\n",
      "epoch 85:loss = 13.939631.\n",
      "86 / 100 epoch start.\n",
      "epoch 86:loss = 13.689086.\n",
      "87 / 100 epoch start.\n",
      "epoch 87:loss = 13.504966.\n",
      "88 / 100 epoch start.\n",
      "epoch 88:loss = 13.361321.\n",
      "89 / 100 epoch start.\n",
      "epoch 89:loss = 13.32345.\n",
      "90 / 100 epoch start.\n",
      "epoch 90:loss = 13.374484.\n",
      "91 / 100 epoch start.\n",
      "epoch 91:loss = 13.366882.\n",
      "92 / 100 epoch start.\n",
      "epoch 92:loss = 13.337866.\n",
      "93 / 100 epoch start.\n",
      "epoch 93:loss = 13.322939.\n",
      "94 / 100 epoch start.\n",
      "epoch 94:loss = 13.216994.\n",
      "95 / 100 epoch start.\n",
      "epoch 95:loss = 13.259094.\n",
      "96 / 100 epoch start.\n",
      "epoch 96:loss = 13.236694.\n",
      "97 / 100 epoch start.\n",
      "epoch 97:loss = 13.106001.\n",
      "98 / 100 epoch start.\n",
      "epoch 98:loss = 13.185945.\n",
      "99 / 100 epoch start.\n",
      "epoch 99:loss = 13.086762.\n",
      "100 / 100 epoch start.\n",
      "epoch 100:loss = 12.971.\n"
     ]
    }
   ],
   "source": [
    "model=VCBLSTM()\n",
    "optimizer=optimizers.Adam()\n",
    "optimizer.setup(model)\n",
    "\n",
    "cuda.get_device(gpu_id).use()\n",
    "model.to_gpu(gpu_id)\n",
    "\n",
    "\n",
    "epoch_num=100\n",
    "for epoch in range(epoch_num):\n",
    "    print(\"{0} / {1} epoch start.\".format(epoch + 1, epoch_num))\n",
    "    acc_loss=0.0\n",
    "    for i in range(500):\n",
    "        loss=0.0\n",
    "        #model.reset_state()\n",
    "        model.cleargrads()\n",
    "        loss=model.loss(source_list[i],target_list[i])\n",
    "        acc_loss+=loss.data\n",
    "        loss.backward()\n",
    "        #loss.unchain_backward()\n",
    "        optimizer.update()\n",
    "    model_file=\"trained_model/VCBLSTM_0.5_\"+str(epoch)+\".model\"\n",
    "    model.save_model(model_file)\n",
    "    print(\"epoch {0}:loss = {1}.\".format(epoch+1,acc_loss))\n",
    "#model.to_cpu()\n",
    "model_file=\"trained_model/VCBLSTM_0.5.model\"\n",
    "model.save_model(model_file)\n",
    "    "
   ]
  },
  {
   "cell_type": "code",
   "execution_count": 149,
   "metadata": {},
   "outputs": [],
   "source": [
    "source_test_path_list=glob(os.path.join(\"\",\"test/\"+source+\"/*.wav\"))\n",
    "target_test_path_list=glob(os.path.join(\"\",\"test/\"+target+\"/*.wav\"))"
   ]
  },
  {
   "cell_type": "code",
   "execution_count": 150,
   "metadata": {},
   "outputs": [],
   "source": [
    "source_test_fs=[]#入力のサンプリング周波数\n",
    "source_test_data=[]#入力のデータ\n",
    "target_test_fs=[]#出力のサンプリング周波数\n",
    "target_test_data=[]#出力のデータ\n",
    "source_test_raw_f0=[]#基本周波数\n",
    "target_test_raw_f0=[]\n",
    "source_test_t=[]\n",
    "target_test_t=[]\n",
    "source_test_f0=[]#修正された基本周波数\n",
    "target_test_f0=[]\n",
    "source_test_sp=[]#スペクトル包絡\n",
    "target_test_sp=[]\n",
    "source_test_ap=[]#非周期成分\n",
    "target_test_ap=[]\n",
    "source_test_mc=[]#MCEP\n",
    "target_test_mc=[]\n",
    "source_test_aligned_mc=[]#同期されたMCEP\n",
    "target_test_aligned_mc=[]\n",
    "\n",
    "for i in range(10):\n",
    "    source_test_fs.append(wavfile.read(source_test_path_list[i])[0])\n",
    "    source_test_data.append(wavfile.read(source_test_path_list[i])[1])\n",
    "    #target_test_fs.append(wavfile.read(target_test_path_list[i])[0])\n",
    "    #target_test_data.append(wavfile.read(target_test_path_list[i])[1])\n",
    "    source_test_data[i]=source_test_data[i].astype(np.float)\n",
    "    #target_test_data[i]=target_test_data[i].astype(np.float)\n",
    "    \n",
    "#for i in range(len(source_path_list)):#各特徴量の抽出\n",
    "for i in range(10):\n",
    "    source_test_raw_f0.append(pw.dio(source_test_data[i],source_test_fs[i])[0])\n",
    "    source_test_t.append(pw.dio(source_test_data[i],source_test_fs[i])[1])\n",
    "    source_test_f0.append(pw.stonemask(source_test_data[i],source_test_raw_f0[i],source_test_t[i],source_test_fs[i]))\n",
    "    source_test_sp.append(pw.cheaptrick(source_test_data[i],source_test_f0[i],source_test_t[i],source_test_fs[i]))\n",
    "    source_test_ap.append(pw.d4c(source_test_data[i],source_test_f0[i],source_test_t[i],source_test_fs[i]))\n",
    "    source_test_mc.append(pysptk.sp2mc(source_test_sp[i],24,pysptk.util.mcepalpha(source_test_fs[i])))\n",
    "    #target_test_raw_f0.append(pw.dio(target_test_data[i],target_test_fs[i])[0])\n",
    "    #target_test_t.append(pw.dio(target_test_data[i],target_test_fs[i])[1])\n",
    "    #target_test_f0.append(pw.stonemask(target_test_data[i],target_test_raw_f0[i],target_test_t[i],target_test_fs[i]))\n",
    "    #target_test_sp.append(pw.cheaptrick(target_test_data[i],target_test_f0[i],target_test_t[i],target_test_fs[i]))\n",
    "    #target_test_ap.append(pw.d4c(target_test_data[i],target_test_f0[i],target_test_t[i],target_test_fs[i]))\n",
    "    #target_test_mc.append(pysptk.sp2mc(target_test_sp[i],24,pysptk.util.mcepalpha(target_test_fs[i])))\n",
    "    "
   ]
  },
  {
   "cell_type": "code",
   "execution_count": 151,
   "metadata": {},
   "outputs": [],
   "source": [
    "source_test_list=[]\n",
    "#target_test_list=[]\n",
    "#for i in range(len(source_path_list)):\n",
    "for i in range(10):\n",
    "    source_test_list.append(xp.array(source_test_mc[i],dtype=xp.float32))\n",
    "    #target_test_list.append(xp.array(target_test_mc[i],dtype=xp.float32))"
   ]
  },
  {
   "cell_type": "code",
   "execution_count": 154,
   "metadata": {},
   "outputs": [],
   "source": [
    "for i in range(10):\n",
    "    conversed_f0=[]\n",
    "    for j in range(source_test_f0[i].shape[0]):\n",
    "        if np.abs(source_test_f0[i][j])<0.001:\n",
    "            conversed_f0.append(source_test_f0[i][j])\n",
    "        else:\n",
    "            conversed_f0.append(np.exp(np.log(source_test_f0[i][j])*f0_param[0])+f0_param[1])\n",
    "    conversed_f0=np.array(conversed_f0)\n",
    "    #conversed_f0=conversed_f0*(np.mean(target_test_f0[i]/np.mean(conversed_f0)))\n",
    "    tgt_mc=model(source_test_list[i]).data.astype(np.float64)\n",
    "    tgt_mc=xp.asnumpy(tgt_mc)\n",
    "    sp=pysptk.mc2sp(tgt_mc,0.42,512*2)\n",
    "    owav=pw.synthesize(conversed_f0,sp,source_test_ap[i],source_test_fs[i])\n",
    "    owav=np.clip(owav,-32768,32767)\n",
    "    wavfile.write(\"test/result/\"+source_test_path_list[i].split('/')[-1],source_test_fs[i],owav.astype(np.int16))"
   ]
  },
  {
   "cell_type": "code",
   "execution_count": 48,
   "metadata": {},
   "outputs": [],
   "source": [
    "tgt=model(source_test_list[0]).data.astype(np.float64)\n",
    "tgt=xp.asnumpy(tgt)"
   ]
  },
  {
   "cell_type": "code",
   "execution_count": 113,
   "metadata": {},
   "outputs": [],
   "source": [
    "sp=pysptk.mc2sp(tgt,0.42,512*2)\n",
    "owav=pw.synthesize(conversed_f0,sp,source_test_ap[0],source_test_fs[0])\n",
    "owav=np.clip(owav,-32768,32767)\n",
    "wavfile.write(\"test.wav\",source_test_fs[0],owav.astype(np.int16))"
   ]
  },
  {
   "cell_type": "code",
   "execution_count": 102,
   "metadata": {},
   "outputs": [],
   "source": [
    "conversed_f0=[]\n",
    "\n",
    "for i in range(source_test_f0[0].shape[0]):\n",
    "    if np.abs(source_test_f0[0][i])<0.001:\n",
    "        conversed_f0.append(source_test_f0[0][i])\n",
    "    else:\n",
    "        conversed_f0.append(np.exp(np.log(source_test_f0[0][i])*f0_param[0])+f0_param[1])"
   ]
  },
  {
   "cell_type": "code",
   "execution_count": 103,
   "metadata": {},
   "outputs": [],
   "source": [
    "conversed_f0=np.array(conversed_f0)"
   ]
  },
  {
   "cell_type": "code",
   "execution_count": 104,
   "metadata": {},
   "outputs": [
    {
     "data": {
      "text/plain": [
       "(664,)"
      ]
     },
     "execution_count": 104,
     "metadata": {},
     "output_type": "execute_result"
    }
   ],
   "source": [
    "conversed_f0.shape"
   ]
  },
  {
   "cell_type": "code",
   "execution_count": 115,
   "metadata": {},
   "outputs": [
    {
     "data": {
      "text/plain": [
       "[<matplotlib.lines.Line2D at 0x7fef7153ec18>]"
      ]
     },
     "execution_count": 115,
     "metadata": {},
     "output_type": "execute_result"
    },
    {
     "data": {
      "image/png": "[encoded data removed]",
      "text/plain": [
       "<Figure size 432x288 with 1 Axes>"
      ]
     },
     "metadata": {},
     "output_type": "display_data"
    }
   ],
   "source": [
    "plt.plot(conversed_f0*20)\n",
    "plt.plot(target_test_f0[0])"
   ]
  },
  {
   "cell_type": "code",
   "execution_count": 133,
   "metadata": {},
   "outputs": [
    {
     "data": {
      "text/plain": [
       "[<matplotlib.lines.Line2D at 0x7fef1958bcf8>]"
      ]
     },
     "execution_count": 133,
     "metadata": {},
     "output_type": "execute_result"
    },
    {
     "data": {
      "image/png": "[encoded data removed]",
      "text/plain": [
       "<Figure size 432x288 with 1 Axes>"
      ]
     },
     "metadata": {},
     "output_type": "display_data"
    }
   ],
   "source": [
    "#plt.plot(owav[1000:2000])\n",
    "#plt.plot(source_test_data[0])\n",
    "plt.plot(target_test_data[0][4400:4800])"
   ]
  },
  {
   "cell_type": "code",
   "execution_count": 134,
   "metadata": {},
   "outputs": [
    {
     "data": {
      "text/plain": [
       "[<matplotlib.lines.Line2D at 0x7fef19547da0>]"
      ]
     },
     "execution_count": 134,
     "metadata": {},
     "output_type": "execute_result"
    },
    {
     "data": {
      "image/png": "[encoded data removed]",
      "text/plain": [
       "<Figure size 432x288 with 1 Axes>"
      ]
     },
     "metadata": {},
     "output_type": "display_data"
    }
   ],
   "source": [
    "plt.plot(owav[4400:4800])"
   ]
  },
  {
   "cell_type": "code",
   "execution_count": null,
   "metadata": {},
   "outputs": [],
   "source": []
  }
 ],
 "metadata": {
  "kernelspec": {
   "display_name": "Python [default]",
   "language": "python",
   "name": "python3"
  },
  "language_info": {
   "codemirror_mode": {
    "name": "ipython",
    "version": 3
   },
   "file_extension": ".py",
   "mimetype": "text/x-python",
   "name": "python",
   "nbconvert_exporter": "python",
   "pygments_lexer": "ipython3",
   "version": "3.5.5"
  }
 },
 "nbformat": 4,
 "nbformat_minor": 2
}
